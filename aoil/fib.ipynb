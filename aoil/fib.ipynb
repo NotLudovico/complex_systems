{
 "cells": [
  {
   "cell_type": "markdown",
   "metadata": {},
   "source": [
    "# Computing Fibonacci Number\n",
    "\n",
    "Using the recursive definition we can write:\n",
    "$$\n",
    "    f_1 = f_0 = 1 \\\\\n",
    "    f_n = f_{n-1} + f_{n-2}\n",
    "$$"
   ]
  },
  {
   "cell_type": "code",
   "execution_count": 58,
   "metadata": {},
   "outputs": [
    {
     "name": "stdout",
     "output_type": "stream",
     "text": [
      "  43.434 ns (2 allocations: 32 bytes)\n"
     ]
    },
    {
     "data": {
      "text/plain": [
       "3736710778780434371"
      ]
     },
     "metadata": {},
     "output_type": "display_data"
    }
   ],
   "source": [
    "using BenchmarkTools\n",
    "k = 100\n",
    "\n",
    "function fib(n)\n",
    "    (n == 0 || n == 1) && return 1\n",
    "    return fib(n-1) + fib(n-2)\n",
    "end\n",
    "\n",
    "@btime fib(k)"
   ]
  },
  {
   "cell_type": "markdown",
   "metadata": {},
   "source": [
    "## The problem\n",
    "Even though the code above works, it is slow, since we are recomputing many times the same values. The number of call to `fib(n)` grows exponentially. Thus is better to use memoiaization:"
   ]
  },
  {
   "cell_type": "code",
   "execution_count": 57,
   "metadata": {},
   "outputs": [
    {
     "name": "stdout",
     "output_type": "stream",
     "text": [
      "  20.604 ns (1 allocation: 16 bytes)\n"
     ]
    },
    {
     "data": {
      "text/plain": [
       "3736710778780434371"
      ]
     },
     "metadata": {},
     "output_type": "display_data"
    }
   ],
   "source": [
    "function fib2(n, memo)\n",
    "    if memo[n] != 0\n",
    "        return memo[n]\n",
    "    end\n",
    "\n",
    "    if n <= 2\n",
    "        memo[n] = 1\n",
    "    else\n",
    "        memo[n] = fib(n - 1, memo) + fib(n - 2, memo)\n",
    "    end\n",
    "\n",
    "    return memo[n]\n",
    "end\n",
    "\n",
    "memo = zeros(Int, k)\n",
    "@btime fib2(k, memo)"
   ]
  }
 ],
 "metadata": {
  "kernelspec": {
   "display_name": "Julia 1.11.2",
   "language": "julia",
   "name": "julia-1.11"
  },
  "language_info": {
   "file_extension": ".jl",
   "mimetype": "application/julia",
   "name": "julia",
   "version": "1.11.2"
  }
 },
 "nbformat": 4,
 "nbformat_minor": 2
}
