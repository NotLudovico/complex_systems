{
 "cells": [
  {
   "cell_type": "markdown",
   "id": "3a601291",
   "metadata": {},
   "source": [
    "# k-th Largest Element in Two Sorted Arrays\n",
    "\n",
    "We are given two sorted arrays in non-decreasing order:\n",
    "$$\n",
    "a_1 \\le a_2 \\le \\cdots \\le a_n \\\\\n",
    "b_1 \\le b_2 \\le \\cdots \\le b_n\n",
    "$$\n",
    "\n",
    "Our goal is to find the $k$-th largest element in the combined collection\n",
    "$$\n",
    "\\{a_1, a_2, \\ldots, a_n\\} \\cup \\{b_1, b_2, \\ldots, b_n\\}\n",
    "$$\n",
    "in $O(\\log k)$ time (assuming $k \\le n$)."
   ]
  },
  {
   "cell_type": "code",
   "execution_count": 21,
   "id": "a6f1589c",
   "metadata": {},
   "outputs": [],
   "source": [
    "function random_sorted_vector(n::Int)\n",
    "    v = rand(n)\n",
    "    sort!(v)\n",
    "    return v\n",
    "end\n",
    "\n",
    "a = [0.3252602011495276, 0.5903622027614026, 0.6702071952849438, 0.7701951782852603, 0.9456497001536102]\n",
    "b = [0.19951217723706438, 0.3967491029940955, 0.5650588440768421, 0.9130524561083665, 0.9819889336404025]\n",
    "k = 3;"
   ]
  },
  {
   "cell_type": "code",
   "execution_count": 22,
   "id": "6e4e8405",
   "metadata": {},
   "outputs": [
    {
     "name": "stdout",
     "output_type": "stream",
     "text": [
      "Result: 8\n"
     ]
    }
   ],
   "source": [
    "using BenchmarkTools\n",
    "\n",
    "function largest(a, b, k)\n",
    "    if k == 1\n",
    "        return max(a[end], b[end])\n",
    "    end\n",
    "\n",
    "    if length(a) > k\n",
    "        a = a[end - k + 1:end]\n",
    "    end\n",
    "    if length(b) > k\n",
    "        b = b[end - k + 1:end]\n",
    "    end\n",
    "\n",
    "    i = min(length(a), k ÷ 2)\n",
    "    j = min(length(b), k ÷ 2)\n",
    "    \n",
    "    # i-th largest el in a\n",
    "    a_pivot = a[end - i + 1]\n",
    "    # j-th largest el in b\n",
    "    b_pivot = b[end - j + 1]\n",
    "\n",
    "    if a_pivot >= b_pivot\n",
    "        # we know that elements in a from i to end are larger than the k-th \n",
    "        # largest, so we remove them\n",
    "        return largest(a[1:end - i], b, k - i)\n",
    "    else\n",
    "        # symmetric case \n",
    "        return largest(a, b[1:end - j], k - j)\n",
    "    end\n",
    "end\n",
    "\n",
    "a = [1, 3, 5, 7, 9]\n",
    "b = [2, 4, 6, 8, 10]\n",
    "k = 3  \n",
    "\n",
    "result = largest(a, b, k)\n",
    "println(\"Result: \", result)\n"
   ]
  },
  {
   "cell_type": "markdown",
   "id": "8940d86a",
   "metadata": {},
   "source": [
    "# Linear To Check"
   ]
  },
  {
   "cell_type": "code",
   "execution_count": 23,
   "id": "a039c87e",
   "metadata": {},
   "outputs": [
    {
     "data": {
      "text/plain": [
       "8"
      ]
     },
     "execution_count": 23,
     "metadata": {},
     "output_type": "execute_result"
    }
   ],
   "source": [
    "using BenchmarkTools\n",
    "\n",
    "function linear_kth_largest(a, b, k)\n",
    "    if k == 1\n",
    "       return max(a[end], b[end]) \n",
    "    end\n",
    "\n",
    "    if a[end] >= b[end]\n",
    "        return linear_kth_largest(a[1:end-1], b, k-1)\n",
    "    else\n",
    "        return linear_kth_largest(a, b[1:end-1], k-1)\n",
    "    end\n",
    "end\n",
    "\n",
    "linear_kth_largest(a, b, k)"
   ]
  },
  {
   "cell_type": "markdown",
   "id": "e61dedc4",
   "metadata": {},
   "source": [
    "## Check"
   ]
  },
  {
   "cell_type": "code",
   "execution_count": 24,
   "id": "d4a625e6",
   "metadata": {},
   "outputs": [],
   "source": [
    "using Random\n",
    "\n",
    "function random_sorted_vector(n::Int)\n",
    "    # Generate n random integers in the range -20 to 20 (with possible duplicates)\n",
    "    vec = rand(n)\n",
    "    return sort(vec)\n",
    "end\n",
    "\n",
    "l = 5\n",
    "for _ in 1:200\n",
    "    a = random_sorted_vector(l)\n",
    "    b = random_sorted_vector(l)\n",
    "    k = rand(1:l)\n",
    "\n",
    "    if linear_kth_largest(a, b,k ) != largest(a,b,k)\n",
    "        println(\"INPUT\")\n",
    "        println(a)\n",
    "        println(b)\n",
    "        println(k)\n",
    "        println(\"OUTPUT\")\n",
    "        println(linear_kth_largest(a, b,k ))\n",
    "        println(largest(a, b,k ))\n",
    "        return\n",
    "    end\n",
    "\n",
    "end"
   ]
  }
 ],
 "metadata": {
  "kernelspec": {
   "display_name": "Julia 1.11.2",
   "language": "julia",
   "name": "julia-1.11"
  },
  "language_info": {
   "file_extension": ".jl",
   "mimetype": "application/julia",
   "name": "julia",
   "version": "1.11.2"
  }
 },
 "nbformat": 4,
 "nbformat_minor": 5
}
