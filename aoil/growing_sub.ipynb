{
 "cells": [
  {
   "cell_type": "markdown",
   "metadata": {},
   "source": [
    "# Growing Subsequences\n",
    "Given an array of numbers $v_0, v_1, \\ldots, v_{n-1}$, find the maximum integer $k$ for which there exists a strictly increasing sequence of indices\n",
    "$\n",
    "0 \\;\\le\\; \\pi_1 \\;<\\; \\pi_2 \\;<\\;\\dots\\;<\\;\\pi_k \\;\\le\\; n-1\n",
    "$\n",
    "satisfying\n",
    "$\n",
    "v_{\\pi_1} \\;\\le\\; v_{\\pi_2} \\;\\le\\;\\dots\\;\\le\\; v_{\\pi_k}.\n",
    "$"
   ]
  },
  {
   "cell_type": "code",
   "execution_count": 1,
   "metadata": {},
   "outputs": [
    {
     "data": {
      "text/plain": [
       "32-element Vector{Int64}:\n",
       "  11\n",
       "   5\n",
       " -21\n",
       "  12\n",
       "  17\n",
       " -25\n",
       "   1\n",
       " -24\n",
       "  -5\n",
       "  17\n",
       "   ⋮\n",
       " -24\n",
       " -24\n",
       "   7\n",
       " -29\n",
       "  19\n",
       "  29\n",
       " -19\n",
       " -26\n",
       "  25"
      ]
     },
     "metadata": {},
     "output_type": "display_data"
    }
   ],
   "source": [
    "using BenchmarkTools\n",
    "\n",
    "# Test\n",
    "v = rand(-30:30,32) "
   ]
  },
  {
   "cell_type": "code",
   "execution_count": 3,
   "metadata": {},
   "outputs": [
    {
     "name": "stdout",
     "output_type": "stream",
     "text": [
      "  26.249 s (0 allocations: 0 bytes)\n",
      "Length of the longest non-decreasing subsequence is: 9\n"
     ]
    }
   ],
   "source": [
    "# ChatGPT Generated\n",
    "function brute_force_lnnds_length(v)\n",
    "    n = length(v)\n",
    "    best_len = 0\n",
    "    \n",
    "    # Check all subsets via bitmask from 0 to 2^n - 1\n",
    "    for mask in 0:(1 << n) - 1\n",
    "        current_len = 0\n",
    "        last_val = typemin(Int)\n",
    "        valid = true\n",
    "        \n",
    "        for i in 0:(n-1)\n",
    "            if (mask & (1 << i)) != 0\n",
    "                if v[i+1] >= last_val\n",
    "                    # Extend this subsequence\n",
    "                    current_len += 1\n",
    "                    last_val = v[i+1]\n",
    "                else\n",
    "                    # This subset fails the non-decreasing condition\n",
    "                    valid = false\n",
    "                    break\n",
    "                end\n",
    "            end\n",
    "        end\n",
    "        \n",
    "        # Update best length\n",
    "        if valid && current_len > best_len\n",
    "            best_len = current_len\n",
    "        end\n",
    "    end\n",
    "    \n",
    "    return best_len\n",
    "end\n",
    "\n",
    "# Example usage:\n",
    "max_length = @btime brute_force_lnnds_length(v)\n",
    "println(\"Length of the longest non-decreasing subsequence is: \", max_length)\n"
   ]
  },
  {
   "cell_type": "markdown",
   "metadata": {},
   "source": [
    "# Solution"
   ]
  },
  {
   "cell_type": "code",
   "execution_count": 3,
   "metadata": {},
   "outputs": [
    {
     "ename": "InterruptException",
     "evalue": "InterruptException:",
     "output_type": "error",
     "traceback": [
      "InterruptException:\n",
      "\n",
      "Stacktrace:\n",
      "  [1] GenericMemory\n",
      "    @ ./boot.jl:516 [inlined]\n",
      "  [2] Array\n",
      "    @ ./boot.jl:578 [inlined]\n",
      "  [3] Array\n",
      "    @ ./boot.jl:591 [inlined]\n",
      "  [4] similar\n",
      "    @ ./array.jl:372 [inlined]\n",
      "  [5] similar\n",
      "    @ ./abstractarray.jl:822 [inlined]\n",
      "  [6] getindex\n",
      "    @ ./array.jl:938 [inlined]\n",
      "  [7] sub(v::Vector{Int64}, last::Bool) (repeats 17 times)\n",
      "    @ Main ~/Documents/complex_systems/aoil/jl_notebook_cell_df34fa98e69747e1a8f8a730347b8e2f_W4sZmlsZQ==.jl:10\n",
      "  [8] sub\n",
      "    @ ~/Documents/complex_systems/aoil/jl_notebook_cell_df34fa98e69747e1a8f8a730347b8e2f_W4sZmlsZQ==.jl:3 [inlined]\n",
      "  [9] var\"##core#242\"()\n",
      "    @ Main ~/.julia/packages/BenchmarkTools/1i1mY/src/execution.jl:598\n",
      " [10] var\"##sample#243\"(::Tuple{}, __params::BenchmarkTools.Parameters)\n",
      "    @ Main ~/.julia/packages/BenchmarkTools/1i1mY/src/execution.jl:607\n",
      " [11] _lineartrial(b::BenchmarkTools.Benchmark, p::BenchmarkTools.Parameters; maxevals::Int64, kwargs::@Kwargs{})\n",
      "    @ BenchmarkTools ~/.julia/packages/BenchmarkTools/1i1mY/src/execution.jl:192\n",
      " [12] _lineartrial(b::BenchmarkTools.Benchmark, p::BenchmarkTools.Parameters)\n",
      "    @ BenchmarkTools ~/.julia/packages/BenchmarkTools/1i1mY/src/execution.jl:181\n",
      " [13] #invokelatest#2\n",
      "    @ ./essentials.jl:1055 [inlined]\n",
      " [14] invokelatest\n",
      "    @ ./essentials.jl:1052 [inlined]\n",
      " [15] #lineartrial#46\n",
      "    @ ~/.julia/packages/BenchmarkTools/1i1mY/src/execution.jl:51 [inlined]\n",
      " [16] lineartrial\n",
      "    @ ~/.julia/packages/BenchmarkTools/1i1mY/src/execution.jl:50 [inlined]\n",
      " [17] tune!(b::BenchmarkTools.Benchmark, p::BenchmarkTools.Parameters; progressid::Nothing, nleaves::Float64, ndone::Float64, verbose::Bool, pad::String, kwargs::@Kwargs{})\n",
      "    @ BenchmarkTools ~/.julia/packages/BenchmarkTools/1i1mY/src/execution.jl:299\n",
      " [18] tune!\n",
      "    @ ~/.julia/packages/BenchmarkTools/1i1mY/src/execution.jl:288 [inlined]\n",
      " [19] tune!(b::BenchmarkTools.Benchmark)\n",
      "    @ BenchmarkTools ~/.julia/packages/BenchmarkTools/1i1mY/src/execution.jl:288\n",
      " [20] eval\n",
      "    @ ./boot.jl:430 [inlined]\n",
      " [21] include_string(mapexpr::typeof(REPL.softscope), mod::Module, code::String, filename::String)\n",
      "    @ Base ./loading.jl:2734\n",
      " [22] #invokelatest#2\n",
      "    @ ./essentials.jl:1055 [inlined]\n",
      " [23] invokelatest\n",
      "    @ ./essentials.jl:1052 [inlined]\n",
      " [24] (::VSCodeServer.var\"#217#218\"{VSCodeServer.NotebookRunCellArguments, String})()\n",
      "    @ VSCodeServer ~/.vscode/extensions/julialang.language-julia-1.127.2/scripts/packages/VSCodeServer/src/serve_notebook.jl:24\n",
      " [25] withpath(f::VSCodeServer.var\"#217#218\"{VSCodeServer.NotebookRunCellArguments, String}, path::String)\n",
      "    @ VSCodeServer ~/.vscode/extensions/julialang.language-julia-1.127.2/scripts/packages/VSCodeServer/src/repl.jl:276\n",
      " [26] notebook_runcell_request(conn::VSCodeServer.JSONRPC.JSONRPCEndpoint{Base.PipeEndpoint, Base.PipeEndpoint}, params::VSCodeServer.NotebookRunCellArguments)\n",
      "    @ VSCodeServer ~/.vscode/extensions/julialang.language-julia-1.127.2/scripts/packages/VSCodeServer/src/serve_notebook.jl:13\n",
      " [27] dispatch_msg(x::VSCodeServer.JSONRPC.JSONRPCEndpoint{Base.PipeEndpoint, Base.PipeEndpoint}, dispatcher::VSCodeServer.JSONRPC.MsgDispatcher, msg::Dict{String, Any})\n",
      "    @ VSCodeServer.JSONRPC ~/.vscode/extensions/julialang.language-julia-1.127.2/scripts/packages/JSONRPC/src/typed.jl:67\n",
      " [28] serve_notebook(pipename::String, debugger_pipename::String, outputchannel_logger::Base.CoreLogging.SimpleLogger; error_handler::var\"#5#10\"{String})\n",
      "    @ VSCodeServer ~/.vscode/extensions/julialang.language-julia-1.127.2/scripts/packages/VSCodeServer/src/serve_notebook.jl:147\n",
      " [29] top-level scope\n",
      "    @ ~/.vscode/extensions/julialang.language-julia-1.127.2/scripts/notebook/notebook.jl:35"
     ]
    }
   ],
   "source": [
    "function sub(v::Vector{Int}, last::Bool=false)\n",
    "    # Base case: if there's only one element, return it as the subsequence.\n",
    "    if length(v) == 1\n",
    "        return v\n",
    "    end\n",
    "\n",
    "    best = Int[]  \n",
    "\n",
    "    for i in 1:(length(v)-1)\n",
    "        subseq = sub(v[1:i], true)\n",
    "        \n",
    "        if last\n",
    "            grow_ending = [el for el in subseq if el <= v[end]]\n",
    "            push!(grow_ending, v[end])\n",
    "            \n",
    "            if length(grow_ending) > length(best)\n",
    "                best = grow_ending\n",
    "            end\n",
    "        else\n",
    "            if length(subseq) > length(best) ||\n",
    "               (length(subseq) == length(best) && (isempty(best) || subseq[end] < best[end]))\n",
    "                best = subseq\n",
    "            end\n",
    "        end\n",
    "    end\n",
    "\n",
    "    if !last && (isempty(best) || v[end] >= best[end])\n",
    "        push!(best, v[end])\n",
    "    end\n",
    "\n",
    "    return best\n",
    "end\n",
    "\n",
    "# Example usage:\n",
    "println(\"Result: \", @btime sub(v))\n"
   ]
  },
  {
   "cell_type": "markdown",
   "metadata": {},
   "source": [
    "# Memo Version"
   ]
  },
  {
   "cell_type": "code",
   "execution_count": 2,
   "metadata": {},
   "outputs": [
    {
     "name": "stdout",
     "output_type": "stream",
     "text": [
      "  573.292 μs (4711 allocations: 285.95 KiB)\n",
      "Result: [-25, -24, -17, -12, -7, 0, 21, 24, 29]\n"
     ]
    }
   ],
   "source": [
    "function sub_memo(v::Vector{Int})\n",
    "    cache = Dict{Tuple{Tuple{Int,Vararg{Int}}, Bool}, Vector{Int}}()\n",
    "    \n",
    "    function _sub(v::Vector{Int}, last::Bool=false)\n",
    "        key = (tuple(v...), last)\n",
    "\n",
    "        if haskey(cache, key)\n",
    "            return cache[key]\n",
    "        end\n",
    "\n",
    "        if length(v) == 1\n",
    "            cache[key] = v\n",
    "            return v\n",
    "        end\n",
    "\n",
    "        best = Int[]\n",
    "        \n",
    "        for i in 1:(length(v)-1)\n",
    "            subseq = _sub(v[1:i], true)\n",
    "            \n",
    "            if last\n",
    "                grow_ending = [el for el in subseq if el <= v[end]]\n",
    "                push!(grow_ending, v[end])\n",
    "                \n",
    "                if length(grow_ending) > length(best)\n",
    "                    best = grow_ending\n",
    "                end\n",
    "            else\n",
    "                if length(subseq) > length(best) ||\n",
    "                   (length(subseq) == length(best) && (isempty(best) || subseq[end] < best[end]))\n",
    "                    best = subseq\n",
    "                end\n",
    "            end\n",
    "        end\n",
    "\n",
    "        if !last && (isempty(best) || v[end] >= best[end])\n",
    "            push!(best, v[end])\n",
    "        end\n",
    "        \n",
    "        cache[key] = best\n",
    "        return best\n",
    "    end\n",
    "\n",
    "    return _sub(v)\n",
    "end\n",
    "\n",
    "# Example usage:\n",
    "println(\"Result: \", @btime sub_memo(v))\n"
   ]
  },
  {
   "cell_type": "markdown",
   "metadata": {},
   "source": [
    "# Testing"
   ]
  },
  {
   "cell_type": "code",
   "execution_count": null,
   "metadata": {},
   "outputs": [],
   "source": [
    "for size in 2:20\n",
    "    for _ in 1:10\n",
    "        v = rand(-10:10, size)\n",
    "        l_b = brute_force_lnnds_length(v)\n",
    "        l_l = length(sub(v))\n",
    "\n",
    "        if l_b != l_l\n",
    "            println(\"\\n----\")\n",
    "            println(\"$v\")\n",
    "            println(\"$l_b\")\n",
    "            println(\"$l_l\")\n",
    "            println(\"----\")\n",
    "        end\n",
    "    end\n",
    "end"
   ]
  }
 ],
 "metadata": {
  "kernelspec": {
   "display_name": "Julia 1.11.4",
   "language": "julia",
   "name": "julia-1.11"
  },
  "language_info": {
   "file_extension": ".jl",
   "mimetype": "application/julia",
   "name": "julia",
   "version": "1.11.4"
  }
 },
 "nbformat": 4,
 "nbformat_minor": 2
}
