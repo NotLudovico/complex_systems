{
 "cells": [
  {
   "cell_type": "markdown",
   "metadata": {},
   "source": [
    "# Growing Subsequences\n",
    "Given an array of numbers $v_0, v_1, \\ldots, v_{n-1}$, find the maximum integer $k$ for which there exists a strictly increasing sequence of indices\n",
    "$\n",
    "0 \\;\\le\\; \\pi_1 \\;<\\; \\pi_2 \\;<\\;\\dots\\;<\\;\\pi_k \\;\\le\\; n-1\n",
    "$\n",
    "satisfying\n",
    "$\n",
    "v_{\\pi_1} \\;\\le\\; v_{\\pi_2} \\;\\le\\;\\dots\\;\\le\\; v_{\\pi_k}.\n",
    "$"
   ]
  },
  {
   "cell_type": "code",
   "execution_count": 12,
   "metadata": {},
   "outputs": [
    {
     "data": {
      "text/plain": [
       "28-element Vector{Int64}:\n",
       " -11\n",
       "  19\n",
       "   3\n",
       " -13\n",
       "  17\n",
       "  -5\n",
       " -26\n",
       " -26\n",
       "  -5\n",
       " -24\n",
       "   ⋮\n",
       " -17\n",
       "   7\n",
       "  -1\n",
       " -30\n",
       " -10\n",
       " -11\n",
       "   5\n",
       "   5\n",
       " -28"
      ]
     },
     "metadata": {},
     "output_type": "display_data"
    }
   ],
   "source": [
    "using BenchmarkTools\n",
    "\n",
    "# Test\n",
    "v = rand(-30:30,28) "
   ]
  },
  {
   "cell_type": "code",
   "execution_count": 13,
   "metadata": {},
   "outputs": [
    {
     "name": "stdout",
     "output_type": "stream",
     "text": [
      "  1.702 s (0 allocations: 0 bytes)\n",
      "Length of the longest non-decreasing subsequence is: 9\n"
     ]
    }
   ],
   "source": [
    "# ChatGPT Generated\n",
    "function brute_force_lnnds_length(v)\n",
    "    n = length(v)\n",
    "    best_len = 0\n",
    "    \n",
    "    # Check all subsets via bitmask from 0 to 2^n - 1\n",
    "    for mask in 0:(1 << n) - 1\n",
    "        current_len = 0\n",
    "        last_val = typemin(Int)\n",
    "        valid = true\n",
    "        \n",
    "        for i in 0:(n-1)\n",
    "            if (mask & (1 << i)) != 0\n",
    "                if v[i+1] >= last_val\n",
    "                    # Extend this subsequence\n",
    "                    current_len += 1\n",
    "                    last_val = v[i+1]\n",
    "                else\n",
    "                    # This subset fails the non-decreasing condition\n",
    "                    valid = false\n",
    "                    break\n",
    "                end\n",
    "            end\n",
    "        end\n",
    "        \n",
    "        # Update best length\n",
    "        if valid && current_len > best_len\n",
    "            best_len = current_len\n",
    "        end\n",
    "    end\n",
    "    \n",
    "    return best_len\n",
    "end\n",
    "\n",
    "# Example usage:\n",
    "max_length = @btime brute_force_lnnds_length(v)\n",
    "println(\"Length of the longest non-decreasing subsequence is: \", max_length)\n"
   ]
  },
  {
   "cell_type": "markdown",
   "metadata": {},
   "source": [
    "# Solution"
   ]
  },
  {
   "cell_type": "code",
   "execution_count": 14,
   "metadata": {},
   "outputs": [
    {
     "name": "stdout",
     "output_type": "stream",
     "text": [
      "  8.810 s (702675531 allocations: 30.27 GiB)\n",
      "Result: [-26, -26, -24, -9, -7, -7, 4, 5, 5]\n"
     ]
    }
   ],
   "source": [
    "function sub(v::Vector{Int}, last::Bool=false)\n",
    "    # Base case: if there's only one element, return it as the subsequence.\n",
    "    if length(v) == 1\n",
    "        return v\n",
    "    end\n",
    "\n",
    "    best = Int[]  \n",
    "\n",
    "    for i in 1:(length(v)-1)\n",
    "        subseq = sub(v[1:i], true)\n",
    "        \n",
    "        if last\n",
    "            grow_ending = [el for el in subseq if el <= v[end]]\n",
    "            push!(grow_ending, v[end])\n",
    "            \n",
    "            if length(grow_ending) > length(best)\n",
    "                best = grow_ending\n",
    "            end\n",
    "        else\n",
    "            if length(subseq) > length(best) ||\n",
    "               (length(subseq) == length(best) && (isempty(best) || subseq[end] < best[end]))\n",
    "                best = subseq\n",
    "            end\n",
    "        end\n",
    "    end\n",
    "\n",
    "    if !last && (isempty(best) || v[end] >= best[end])\n",
    "        push!(best, v[end])\n",
    "    end\n",
    "\n",
    "    return best\n",
    "end\n",
    "\n",
    "# Example usage:\n",
    "println(\"Result: \", @btime sub(v))\n"
   ]
  },
  {
   "cell_type": "markdown",
   "metadata": {},
   "source": [
    "# Memo Version"
   ]
  },
  {
   "cell_type": "code",
   "execution_count": 15,
   "metadata": {},
   "outputs": [
    {
     "name": "stdout",
     "output_type": "stream",
     "text": [
      "  413.250 μs (3644 allocations: 207.56 KiB)\n",
      "Result: [-26, -26, -24, -9, -7, -7, 4, 5, 5]\n"
     ]
    }
   ],
   "source": [
    "function sub_memo(v::Vector{Int})\n",
    "    cache = Dict{Tuple{Tuple{Int,Vararg{Int}}, Bool}, Vector{Int}}()\n",
    "    \n",
    "    function _sub(v::Vector{Int}, last::Bool=false)\n",
    "        key = (tuple(v...), last)\n",
    "\n",
    "        if haskey(cache, key)\n",
    "            return cache[key]\n",
    "        end\n",
    "\n",
    "        if length(v) == 1\n",
    "            cache[key] = v\n",
    "            return v\n",
    "        end\n",
    "\n",
    "        best = Int[]\n",
    "        \n",
    "        for i in 1:(length(v)-1)\n",
    "            subseq = _sub(v[1:i], true)\n",
    "            \n",
    "            if last\n",
    "                grow_ending = [el for el in subseq if el <= v[end]]\n",
    "                push!(grow_ending, v[end])\n",
    "                \n",
    "                if length(grow_ending) > length(best)\n",
    "                    best = grow_ending\n",
    "                end\n",
    "            else\n",
    "                if length(subseq) > length(best) ||\n",
    "                   (length(subseq) == length(best) && (isempty(best) || subseq[end] < best[end]))\n",
    "                    best = subseq\n",
    "                end\n",
    "            end\n",
    "        end\n",
    "\n",
    "        if !last && (isempty(best) || v[end] >= best[end])\n",
    "            push!(best, v[end])\n",
    "        end\n",
    "        \n",
    "        cache[key] = best\n",
    "        return best\n",
    "    end\n",
    "\n",
    "    return _sub(v)\n",
    "end\n",
    "\n",
    "# Example usage:\n",
    "println(\"Result: \", @btime sub_memo(v))\n"
   ]
  },
  {
   "cell_type": "markdown",
   "metadata": {},
   "source": [
    "# Testing"
   ]
  },
  {
   "cell_type": "code",
   "execution_count": 16,
   "metadata": {},
   "outputs": [],
   "source": [
    "for size in 2:20\n",
    "    for _ in 1:10\n",
    "        v = rand(-10:10, size)\n",
    "        l_b = brute_force_lnnds_length(v)\n",
    "        l_l = length(sub(v))\n",
    "\n",
    "        if l_b != l_l\n",
    "            println(\"\\n----\")\n",
    "            println(\"$v\")\n",
    "            println(\"$l_b\")\n",
    "            println(\"$l_l\")\n",
    "            println(\"----\")\n",
    "        end\n",
    "    end\n",
    "end"
   ]
  }
 ],
 "metadata": {
  "kernelspec": {
   "display_name": "Julia 1.11.4",
   "language": "julia",
   "name": "julia-1.11"
  },
  "language_info": {
   "file_extension": ".jl",
   "mimetype": "application/julia",
   "name": "julia",
   "version": "1.11.4"
  }
 },
 "nbformat": 4,
 "nbformat_minor": 2
}
