{
 "cells": [
  {
   "cell_type": "markdown",
   "metadata": {},
   "source": [
    "# Hanoi Tower Game"
   ]
  },
  {
   "cell_type": "code",
   "execution_count": 6,
   "metadata": {},
   "outputs": [
    {
     "name": "stdout",
     "output_type": "stream",
     "text": [
      "Move: A -> C\n",
      "Move: A -> B\n",
      "Move: C -> B\n",
      "Move: A -> C\n",
      "Move: B -> A\n",
      "Move: B -> C\n",
      "Move: A -> C\n"
     ]
    }
   ],
   "source": [
    "function hanoi(n, from, to, aux)\n",
    "    if n == 0\n",
    "        return\n",
    "    end\n",
    "    hanoi(n-1, from, aux, to)\n",
    "    println(\"Move: \", from, \" -> \", to)  \n",
    "    hanoi(n-1, aux, to, from)  \n",
    "end\n",
    "\n",
    "hanoi(3, \"A\", \"C\", \"B\")\n"
   ]
  }
 ],
 "metadata": {
  "kernelspec": {
   "display_name": "Julia 1.11.2",
   "language": "julia",
   "name": "julia-1.11"
  },
  "language_info": {
   "file_extension": ".jl",
   "mimetype": "application/julia",
   "name": "julia",
   "version": "1.11.2"
  }
 },
 "nbformat": 4,
 "nbformat_minor": 2
}
