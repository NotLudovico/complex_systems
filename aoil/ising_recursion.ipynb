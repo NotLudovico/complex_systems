{
 "cells": [
  {
   "cell_type": "markdown",
   "metadata": {},
   "source": [
    "# 1D Ising Model\n",
    "\n",
    "The partition function for the Ising model in one dimension is given by:\n",
    "$$\n",
    "    Z = \\sum_{\\sigma_1 \\in \\{\\pm 1\\}} \\dots \\sum_{\\sigma_n \\in \\{\\pm 1\\}} e^{\\sum_{i}^{n-1} \\sum_{j}^{n} J_i \\sigma_i \\sigma_{i+1} \\sigma_j + \\sum_{i}^{n} h_i \\sigma_i }\n",
    "$$"
   ]
  },
  {
   "cell_type": "markdown",
   "metadata": {},
   "source": [
    "## Naive Algorithm Implementation\n",
    "This is a naive implementation of the computation, that leads to a poor performance of $O(n2^n)$"
   ]
  },
  {
   "cell_type": "code",
   "execution_count": 2,
   "metadata": {},
   "outputs": [
    {
     "name": "stdout",
     "output_type": "stream",
     "text": [
      "[0.3848657340817131]\n",
      "[0.01921240408791458]\n"
     ]
    },
    {
     "data": {
      "text/plain": [
       "2.000369127824891"
      ]
     },
     "metadata": {},
     "output_type": "display_data"
    }
   ],
   "source": [
    "using IterTools\n",
    "\n",
    "N = 1\n",
    "J = rand(N) # Vector of N float values between 0 and 1\n",
    "h = rand(N)\n",
    "Z = 0\n",
    "\n",
    "# fill([-1,1], N) creates N copies of [-1,1]\n",
    "# product creates the cartesian product of the argumentd\n",
    "for sigma in collect(IterTools.product(fill([-1, 1], N)...))\n",
    "    arg = 0\n",
    "    for i in 1:N-1\n",
    "        int = J[i]*sigma[i]*sigma[i+1]\n",
    "        for j in 1:N\n",
    "            arg += int * sigma[j]\n",
    "        end\n",
    "        \n",
    "        arg += h[i] * sigma[i]\n",
    "    end\n",
    "\n",
    "    arg += h[N] * sigma[N]\n",
    "    \n",
    "    Z += exp(arg) \n",
    "end\n",
    "\n",
    "println(J)\n",
    "println(h)\n",
    "Z"
   ]
  },
  {
   "cell_type": "markdown",
   "metadata": {},
   "source": [
    "$Z= \\sum_{\\sigma_1 \\dots \\sigma_n} e^{\\sum_i^{n} h_i \\sigma_i}$"
   ]
  },
  {
   "cell_type": "code",
   "execution_count": 3,
   "metadata": {},
   "outputs": [
    {
     "data": {
      "text/plain": [
       "56.43274716527614"
      ]
     },
     "metadata": {},
     "output_type": "display_data"
    }
   ],
   "source": [
    "using LinearAlgebra\n",
    "N = 5\n",
    "h = rand(N)\n",
    "\n",
    "\n",
    "function compute_z(h)\n",
    "    return sum(exp(dot(h,s)) for s in Iterators.product(fill([-1,1], length(h))...))\n",
    "end\n",
    "\n",
    "compute_z(h)"
   ]
  },
  {
   "cell_type": "code",
   "execution_count": 4,
   "metadata": {},
   "outputs": [
    {
     "name": "stdout",
     "output_type": "stream",
     "text": [
      "  0.000022 seconds (9 allocations: 368 bytes)\n"
     ]
    },
    {
     "data": {
      "text/plain": [
       "117.37100771547944"
      ]
     },
     "metadata": {},
     "output_type": "display_data"
    }
   ],
   "source": [
    "h = rand(5)\n",
    "@time compute_z(h)"
   ]
  }
 ],
 "metadata": {
  "kernelspec": {
   "display_name": "Julia 1.11.2",
   "language": "julia",
   "name": "julia-1.11"
  },
  "language_info": {
   "file_extension": ".jl",
   "mimetype": "application/julia",
   "name": "julia",
   "version": "1.11.2"
  }
 },
 "nbformat": 4,
 "nbformat_minor": 2
}
