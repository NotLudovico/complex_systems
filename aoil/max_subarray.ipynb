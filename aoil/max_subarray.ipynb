{
 "cells": [
  {
   "cell_type": "markdown",
   "metadata": {},
   "source": [
    "# Problem\n",
    "Given a vector of real values, find the subarray that has the biggest sum\n",
    "Let $\\vec{v} = (v_1, \\dots, v_n)$ where $v_i \\in \\mathbb{R}$\n",
    "\n",
    "Find\n",
    "$R_n = \\max_{1 \\le i \\le j \\le n} \\sum_{k=i}^{j} v_k$"
   ]
  },
  {
   "cell_type": "code",
   "execution_count": 6,
   "metadata": {},
   "outputs": [
    {
     "data": {
      "text/plain": [
       "(26, 26, 26, 26)"
      ]
     },
     "metadata": {},
     "output_type": "display_data"
    }
   ],
   "source": [
    "function subarray(v, a,b)\n",
    "    p = floor(Int, (a+b)/2)\n",
    "    if a == b\n",
    "        return (v[a], v[a], v[a], v[a])\n",
    "    end \n",
    "\n",
    "    M1, L1, R1, S1 = subarray(v, a, p)\n",
    "    M2, L2, R2, S2 = subarray(v, p+1, b)\n",
    "    return (max(M1,M2, R1,R1+L2), max(L1, S1+S2), max(R2, R1 + S2), S1+S2)\n",
    "end\n",
    "\n",
    "subarray([16,-2,3,4,5], 1, 5)"
   ]
  }
 ],
 "metadata": {
  "kernelspec": {
   "display_name": "Julia 1.11.2",
   "language": "julia",
   "name": "julia-1.11"
  },
  "language_info": {
   "file_extension": ".jl",
   "mimetype": "application/julia",
   "name": "julia",
   "version": "1.11.2"
  }
 },
 "nbformat": 4,
 "nbformat_minor": 2
}
