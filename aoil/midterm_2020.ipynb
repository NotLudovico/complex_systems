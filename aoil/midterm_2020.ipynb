{
 "cells": [
  {
   "cell_type": "markdown",
   "metadata": {},
   "source": [
    "# Problem 1\n",
    "Let $w_1, \\dots, w_n$ such that $\\Pi_{i \\in \\emptyset} w_i = 1$\n",
    "\n",
    "$$\n",
    "S \\;=\\;\\sum_{A,B \\subseteq \\{1,\\dots,n\\}}\n",
    "  \\frac{\\displaystyle \\prod_{i\\in A} w_i}\n",
    "       {\\displaystyle \\prod_{i\\in B} w_i}\\,.\n",
    "$$\n"
   ]
  },
  {
   "cell_type": "code",
   "execution_count": 23,
   "metadata": {},
   "outputs": [
    {
     "data": {
      "text/plain": [
       "15-element Vector{Float64}:\n",
       " 0.3064522625937147\n",
       " 0.8483778114957404\n",
       " 0.959154820374537\n",
       " 0.30040458432953254\n",
       " 0.7418652036519456\n",
       " 0.06989906575852844\n",
       " 0.9959780881042372\n",
       " 0.48376983796669715\n",
       " 0.9853287987763725\n",
       " 0.11772253244120945\n",
       " 0.6446827364432318\n",
       " 0.3768793576297751\n",
       " 0.22307602454774544\n",
       " 0.20566715542615088\n",
       " 0.01238254513311321"
      ]
     },
     "execution_count": 23,
     "metadata": {},
     "output_type": "execute_result"
    }
   ],
   "source": [
    "using BenchmarkTools\n",
    "v = rand(15)"
   ]
  },
  {
   "cell_type": "code",
   "execution_count": 24,
   "metadata": {},
   "outputs": [
    {
     "name": "stdout",
     "output_type": "stream",
     "text": [
      "  53.758 s (1 allocation: 16 bytes)\n"
     ]
    },
    {
     "data": {
      "text/plain": [
       "2.1652753812260576e12"
      ]
     },
     "execution_count": 24,
     "metadata": {},
     "output_type": "execute_result"
    }
   ],
   "source": [
    "# Chatgpt gen\n",
    "function brute_force_pairsum(w)\n",
    "    \"\"\"\n",
    "    Brute-force summation over all pairs of subsets A,B ⊆ {1,...,n},\n",
    "    returning sum(prod(w[i] for i in A) / prod(w[i] for i in B)).\n",
    "    This has time complexity O(4^n).\n",
    "    \"\"\"\n",
    "    n = length(w)\n",
    "    total_sum = 0.0\n",
    "\n",
    "    # For each subset A, represented by an integer bitmask a:\n",
    "    for a in 0:(2^n - 1)\n",
    "        # Compute product of w[i] for i in A\n",
    "        prodA = 1.0\n",
    "        # We interpret the bits of 'a' to decide membership in A\n",
    "        # (i.e. if the i-th bit is set, i is in A).\n",
    "        for i in 0:(n-1)\n",
    "            if ((a >> i) & 1) == 1\n",
    "                prodA *= w[i+1]  # +1 since i is 0-based\n",
    "            end\n",
    "        end\n",
    "\n",
    "        # For each subset B, represented by an integer bitmask b:\n",
    "        for b in 0:(2^n - 1)\n",
    "            # Compute product of w[i] for i in B\n",
    "            prodB = 1.0\n",
    "            for j in 0:(n-1)\n",
    "                if ((b >> j) & 1) == 1\n",
    "                    prodB *= w[j+1]\n",
    "                end\n",
    "            end\n",
    "\n",
    "            # Add the ratio to the grand total\n",
    "            total_sum += prodA / prodB\n",
    "        end\n",
    "    end\n",
    "\n",
    "    return total_sum\n",
    "end\n",
    "\n",
    "@btime brute_force_pairsum(v)"
   ]
  },
  {
   "cell_type": "code",
   "execution_count": 25,
   "metadata": {},
   "outputs": [
    {
     "name": "stdout",
     "output_type": "stream",
     "text": [
      "  238.133 ns (29 allocations: 1.66 KiB)\n"
     ]
    },
    {
     "data": {
      "text/plain": [
       "2.1652753817575032e12"
      ]
     },
     "execution_count": 25,
     "metadata": {},
     "output_type": "execute_result"
    }
   ],
   "source": [
    "function sum_prod(w)\n",
    "    if length(w) == 1\n",
    "        w = w[1]\n",
    "        return 2 + w + 1/w\n",
    "    end\n",
    "\n",
    "    return sum_prod(w[end]) * sum_prod(w[1:end-1])\n",
    "end\n",
    "\n",
    "@btime sum_prod(v)\n"
   ]
  },
  {
   "cell_type": "markdown",
   "metadata": {},
   "source": [
    "# Testing"
   ]
  },
  {
   "cell_type": "code",
   "execution_count": 26,
   "metadata": {},
   "outputs": [],
   "source": [
    "for i in 1:200\n",
    "    v = rand(10)\n",
    "\n",
    "    if brute_force_pairsum(v) ≉ sum_prod(v)\n",
    "        println(\"$(brute_force_pairsum(v)), $(sum_prod(v)), $v\")\n",
    "    end\n",
    "end"
   ]
  }
 ],
 "metadata": {
  "kernelspec": {
   "display_name": "Julia 1.11.2",
   "language": "julia",
   "name": "julia-1.11"
  },
  "language_info": {
   "file_extension": ".jl",
   "mimetype": "application/julia",
   "name": "julia",
   "version": "1.11.2"
  }
 },
 "nbformat": 4,
 "nbformat_minor": 2
}
