{
 "cells": [
  {
   "cell_type": "markdown",
   "metadata": {},
   "source": [
    "# Problem 1:\n",
    "How many ways can one tile a $3 \\times n$ wall using only $1\\times 2$ and $2\\times 1$ blocks?\n",
    "$$"
   ]
  },
  {
   "cell_type": "markdown",
   "metadata": {},
   "source": [
    "## Brute Force"
   ]
  },
  {
   "cell_type": "code",
   "execution_count": 8,
   "metadata": {},
   "outputs": [
    {
     "name": "stdout",
     "output_type": "stream",
     "text": [
      "Number of ways to tile 3×24 with 2×1 bricks = 5757961\n"
     ]
    }
   ],
   "source": [
    "# ChatGPT Generated\n",
    "using BenchmarkTools\n",
    "\n",
    "struct Wall\n",
    "    grid::Matrix{Int}  # size 3×n\n",
    "end\n",
    "\n",
    "function all_walls_3xn(n::Int)\n",
    "    # Create empty grid: 3 rows × n columns, 0 means \"not filled yet\"\n",
    "    grid = fill(0, 3, n)\n",
    "    solutions = Wall[]\n",
    "    backtrack!(grid, 1, 1, 1, solutions)\n",
    "    return solutions\n",
    "end\n",
    "\n",
    "function backtrack!(grid, r, c, next_id, solutions)\n",
    "    n = size(grid, 2)\n",
    "\n",
    "    # If c goes beyond n, move to next row:\n",
    "    if c > n\n",
    "        r += 1\n",
    "        c = 1\n",
    "    end\n",
    "\n",
    "    # If r goes beyond 3, we've filled all rows => store a copy\n",
    "    if r > 3\n",
    "        push!(solutions, Wall(copy(grid)))\n",
    "        return\n",
    "    end\n",
    "\n",
    "    # If current cell is already filled, just move on\n",
    "    if grid[r, c] != 0\n",
    "        backtrack!(grid, r, c+1, next_id, solutions)\n",
    "        return\n",
    "    end\n",
    "\n",
    "    # 1) Try placing a vertical domino if there's space (r+1 within bounds)\n",
    "    if r < 3 && grid[r+1, c] == 0\n",
    "        grid[r,   c] = next_id\n",
    "        grid[r+1, c] = next_id\n",
    "        backtrack!(grid, r, c+1, next_id+1, solutions)\n",
    "        # backtrack\n",
    "        grid[r,   c] = 0\n",
    "        grid[r+1, c] = 0\n",
    "    end\n",
    "\n",
    "    # 2) Try placing a horizontal domino if there's space (c+1 within bounds)\n",
    "    if c < n && grid[r, c+1] == 0\n",
    "        grid[r, c]   = next_id\n",
    "        grid[r, c+1] = next_id\n",
    "        backtrack!(grid, r, c+1, next_id+1, solutions)\n",
    "        # backtrack\n",
    "        grid[r, c]   = 0\n",
    "        grid[r, c+1] = 0\n",
    "    end\n",
    "end\n",
    "\n",
    "n = 24\n",
    "walls = all_walls_3xn(n)\n",
    "println(\"Number of ways to tile 3×$n with 2×1 bricks = \", length(walls))"
   ]
  },
  {
   "cell_type": "markdown",
   "metadata": {},
   "source": [
    "## My solution $O(n^3)$"
   ]
  },
  {
   "cell_type": "code",
   "execution_count": 9,
   "metadata": {},
   "outputs": [
    {
     "ename": "LoadError",
     "evalue": "InterruptException:",
     "output_type": "error",
     "traceback": [
      "InterruptException:",
      "",
      "Stacktrace:",
      " [1] gc (repeats 2 times)",
      "   @ ./gcutils.jl:133 [inlined]",
      " [2] gcscrub",
      "   @ ~/.julia/packages/BenchmarkTools/1i1mY/src/execution.jl:7 [inlined]",
      " [3] _run(b::BenchmarkTools.Benchmark, p::BenchmarkTools.Parameters; verbose::Bool, pad::String, warmup::Bool, kwargs::@Kwargs{})",
      "   @ BenchmarkTools ~/.julia/packages/BenchmarkTools/1i1mY/src/execution.jl:116",
      " [4] #invokelatest#2",
      "   @ ./essentials.jl:1057 [inlined]",
      " [5] invokelatest",
      "   @ ./essentials.jl:1052 [inlined]",
      " [6] #run_result#45",
      "   @ ~/.julia/packages/BenchmarkTools/1i1mY/src/execution.jl:48 [inlined]",
      " [7] run_result",
      "   @ ~/.julia/packages/BenchmarkTools/1i1mY/src/execution.jl:47 [inlined]"
     ]
    }
   ],
   "source": [
    "# Global cache for computed tiling configurations\n",
    "tile_cache = Dict{Int, Vector{Int}}()\n",
    "\n",
    "function tile(n::Int)\n",
    "    if haskey(tile_cache, n)\n",
    "        return tile_cache[n]\n",
    "    end\n",
    "\n",
    "    result = if n % 2 != 0\n",
    "        Int[0]\n",
    "    elseif n <= 2\n",
    "        Int[3]\n",
    "    else\n",
    "        ways = zeros(Int, n ÷ 2)\n",
    "        ways[1] = 2\n",
    "        for i in 2:2:(n - 1)\n",
    "            left, right = tile(i), tile(n - i)\n",
    "            for (j, left_val) in enumerate(left)\n",
    "                ways[j + 1] += left_val * right[1]\n",
    "            end\n",
    "        end\n",
    "        ways\n",
    "    end\n",
    "\n",
    "    tile_cache[n] = result\n",
    "    return result\n",
    "end\n",
    "\n",
    "# Example usage:\n",
    "n = 24\n",
    "val = @btime tile(n)\n",
    "println(\"# Ways of tiling divided by # components for $n: \", val)\n",
    "println(\"# Total Ways of tiling for $n: \", sum(val))\n"
   ]
  },
  {
   "cell_type": "markdown",
   "metadata": {},
   "source": [
    "# Other solution $O(n^3)$"
   ]
  },
  {
   "cell_type": "code",
   "execution_count": null,
   "metadata": {},
   "outputs": [
    {
     "data": {
      "text/plain": [
       "(5757961, 9.708118550994007)"
      ]
     },
     "execution_count": 1,
     "metadata": {},
     "output_type": "execute_result"
    }
   ],
   "source": [
    "using OffsetArrays\n",
    "\n",
    "function ego(n)\n",
    "    # init\n",
    "    w = OffsetArray(zeros(Int, n, n), 1:n, 0:n-1)\n",
    "\n",
    "    # base case\n",
    "    w[2:2:n, 0] .= 2\n",
    "    w[2,0] = 3\n",
    "\n",
    "    # other cases\n",
    "    for i in 2:n, j in 1:i-1\n",
    "        w[i, j] = sum(w[k, j-1] * w[i-k, 0] for k in j:i-1)\n",
    "    end\n",
    "\n",
    "    # total number of configurations\n",
    "    tot = sum( w[n,j] for j in 0:n-1 )\n",
    "\n",
    "    # robustness index\n",
    "    k = sum(i * w[n,i] for i in 0:n-1) / tot + 1\n",
    "\n",
    "    return tot, k\n",
    "\n",
    "end\n",
    "\n",
    "ego(24)\n"
   ]
  },
  {
   "cell_type": "markdown",
   "metadata": {},
   "source": [
    "# $O(n^2)$ Solution"
   ]
  },
  {
   "cell_type": "code",
   "execution_count": null,
   "metadata": {},
   "outputs": [],
   "source": [
    "# Possible but im too stupid for this"
   ]
  },
  {
   "cell_type": "markdown",
   "metadata": {},
   "source": [
    "## Checking"
   ]
  },
  {
   "cell_type": "code",
   "execution_count": null,
   "metadata": {},
   "outputs": [],
   "source": [
    "for n in 2:2:24\n",
    "    if sum(tile(n)) != length(all_walls_3xn(n))\n",
    "        println(\"$n failed\")\n",
    "    end\n",
    "end"
   ]
  },
  {
   "cell_type": "markdown",
   "metadata": {},
   "source": [
    "# Problem 2"
   ]
  },
  {
   "cell_type": "markdown",
   "metadata": {},
   "source": [
    "# Problem 3\n",
    "Given a sequential throw of $N$ dice $i = 1,\\ldots,N$ with biases \n",
    "$p_1,\\ldots,p_N : \\{1,\\ldots,6\\} \\to [0,1]$ \n",
    "(with $\\sum_{x=1}^6 p_i(x) = 1$). \n",
    "Devise a polynomial time procedure to compute:\n",
    "- What is the probability of having exactly $R$ times a repetition of the previous die?\n",
    "- A \"lucky run\" is a subsequence of consecutive 6s in the throw. What is the most probable single throw with exactly $L$ lucky runs and a total of $S$ sixes?"
   ]
  },
  {
   "cell_type": "code",
   "execution_count": 53,
   "metadata": {},
   "outputs": [
    {
     "name": "stdout",
     "output_type": "stream",
     "text": [
      "Total probability for exactly 2 repeated pairs: 0.16452874942844686\n",
      "Best sequence with 1 lucky run(s) and 1 sixes: [1, 6, 4, 1, 1, 1]\n",
      "Probability of that sequence: 0.0002700617283950617\n"
     ]
    }
   ],
   "source": [
    "# Helper function to decode an integer 'idx' into a base-6 sequence of length N,\n",
    "# returning faces in 1..6\n",
    "function decode_base6(idx::Int, N::Int)\n",
    "    seq = Vector{Int}(undef, N)\n",
    "    temp = idx\n",
    "    for i in 1:N\n",
    "        seq[i] = (temp % 6) + 1\n",
    "        temp ÷= 6\n",
    "    end\n",
    "    return seq\n",
    "end\n",
    "\n",
    "# Compute the probability of a particular sequence `seq`\n",
    "# given a probability matrix p of size N×6,\n",
    "# where p[i, x] is the probability that the i-th throw shows face x (1-based).\n",
    "function sequence_probability(seq::Vector{Int}, p::Matrix{Float64})\n",
    "    prob = 1.0\n",
    "    for i in 1:length(seq)\n",
    "        prob *= p[i, seq[i]]\n",
    "    end\n",
    "    return prob\n",
    "end\n",
    "\n",
    "# Count the number of repeated pairs (i.e. consecutive equal faces)\n",
    "function count_repeats(seq::Vector{Int})\n",
    "    count = 0\n",
    "    for i in 2:length(seq)\n",
    "        if seq[i] == seq[i-1]\n",
    "            count += 1\n",
    "        end\n",
    "    end\n",
    "    return count\n",
    "end\n",
    "\n",
    "# Count the number of \"lucky runs\" of consecutive 6s\n",
    "function count_lucky_runs(seq::Vector{Int})\n",
    "    runs = 0\n",
    "    in_run = false\n",
    "    for face in seq\n",
    "        if face == 6\n",
    "            if !in_run\n",
    "                runs += 1\n",
    "                in_run = true\n",
    "            end\n",
    "        else\n",
    "            in_run = false\n",
    "        end\n",
    "    end\n",
    "    return runs\n",
    "end\n",
    "\n",
    "# Count the total number of sixes in the sequence\n",
    "function count_sixes(seq::Vector{Int})\n",
    "    return count(x -> x == 6, seq)\n",
    "end\n",
    "\n",
    "# Brute-force function:\n",
    "# p: an N×6 matrix of probabilities (each row corresponds to one die throw)\n",
    "# R: number of repeated pairs for which we accumulate probability,\n",
    "# L: desired number of lucky runs (consecutive 6s) in the best sequence,\n",
    "# S: desired total number of sixes in that best sequence.\n",
    "function brute_force(p::Matrix{Float64}, R::Int, L::Int, S::Int)\n",
    "    N = size(p, 1)          # number of dice throws (rows of p)\n",
    "    prob_R = 0.0            # accumulates probability for sequences with exactly R repeats\n",
    "    best_prob = 0.0         # best probability among sequences with L lucky runs & S sixes\n",
    "    best_seq = Vector{Int}(undef, N)\n",
    "\n",
    "    total_outcomes = 6^N\n",
    "    for idx in 0:(total_outcomes - 1)\n",
    "        seq = decode_base6(idx, N)\n",
    "        prob = sequence_probability(seq, p)\n",
    "        \n",
    "        # Accumulate probability for sequences with exactly R repeated pairs\n",
    "        if count_repeats(seq) == R\n",
    "            prob_R += prob\n",
    "        end\n",
    "        \n",
    "        # Track the best sequence with exactly L lucky runs and exactly S sixes\n",
    "        if count_lucky_runs(seq) == L && count_sixes(seq) == S\n",
    "            if prob > best_prob\n",
    "                best_prob = prob\n",
    "                best_seq = copy(seq)\n",
    "            end\n",
    "        end\n",
    "    end\n",
    "    return (prob_R, best_seq, best_prob)\n",
    "end\n",
    "\n",
    "# -------------------------\n",
    "# Your provided probability matrix as a vector of vectors:\n",
    "p_vec = [\n",
    "    [1/2,   1/5,   1/5,   1/30, 1/30, 1/30],\n",
    "    [1/6,   1/6,   1/6,   1/6,  1/6,  1/6 ],\n",
    "    [1/8,   1/6,   1/8,   7/36, 7/36, 7/36],\n",
    "    [1/3,   1/4,   1/18,  1/4,  1/18, 1/18],\n",
    "    [1/5,   1/5,   1/5,   2/15, 2/15, 2/15],\n",
    "    [1/4,   1/4,   1/4,   1/8,  1/16, 1/16],\n",
    "]\n",
    "\n",
    "# Convert vector of vectors to a Matrix.\n",
    "# hcat(p_vec...) creates a matrix with each inner vector as a column,\n",
    "# so we transpose it to have each as a row.\n",
    "p = Float64.(hcat(p_vec...)')\n",
    "\n",
    "# Example parameters:\n",
    "# R = 1 repeated pair, L = 1 lucky run of consecutive 6s, S = 2 sixes total.\n",
    "R = 2\n",
    "L = 1\n",
    "S = 1\n",
    "\n",
    "prob_R, best_seq, best_prob = brute_force(p, R, L, S)\n",
    "println(\"Total probability for exactly $R repeated pairs: \", prob_R)\n",
    "println(\"Best sequence with $L lucky run(s) and $S sixes: \", best_seq)\n",
    "println(\"Probability of that sequence: \", best_prob)\n"
   ]
  },
  {
   "cell_type": "markdown",
   "metadata": {},
   "source": [
    "## My Solution"
   ]
  },
  {
   "cell_type": "code",
   "execution_count": null,
   "metadata": {},
   "outputs": [
    {
     "name": "stdout",
     "output_type": "stream",
     "text": [
      "[0.06666666666666667, 0.03333333333333333, 0.041666666666666664, 0.16666666666666666]\n"
     ]
    },
    {
     "data": {
      "text/plain": [
       "U (generic function with 1 method)"
      ]
     },
     "execution_count": 17,
     "metadata": {},
     "output_type": "execute_result"
    }
   ],
   "source": [
    "function U(R,p)\n",
    "    for k in 1:6\n",
    "        for i in 1:length(p)\n",
    "            L\n",
    "        end\n",
    "    end\n",
    "end"
   ]
  },
  {
   "cell_type": "code",
   "execution_count": null,
   "metadata": {},
   "outputs": [
    {
     "data": {
      "text/plain": [
       "U (generic function with 1 method)"
      ]
     },
     "execution_count": 9,
     "metadata": {},
     "output_type": "execute_result"
    }
   ],
   "source": [
    "function table(p)\n",
    "    \n",
    "end\n",
    "\n",
    "\n",
    "\n",
    "# for dice in p\n",
    "#     println(sum(dice))\n",
    "# end\n",
    "\n",
    "T = table(p)\n",
    "\n",
    "function U(i,R,d)\n",
    "    \n",
    "end"
   ]
  }
 ],
 "metadata": {
  "kernelspec": {
   "display_name": "Julia 1.11.2",
   "language": "julia",
   "name": "julia-1.11"
  },
  "language_info": {
   "file_extension": ".jl",
   "mimetype": "application/julia",
   "name": "julia",
   "version": "1.11.2"
  }
 },
 "nbformat": 4,
 "nbformat_minor": 2
}
