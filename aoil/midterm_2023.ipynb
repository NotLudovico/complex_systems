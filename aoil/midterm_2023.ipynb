{
 "cells": [
  {
   "cell_type": "markdown",
   "metadata": {},
   "source": [
    "# Problem 1:\n",
    "How many ways can one tile a $3 \\times n$ wall using only $1\\times 2$ and $2\\times 1$ blocks?\n",
    "$$"
   ]
  },
  {
   "cell_type": "markdown",
   "metadata": {},
   "source": [
    "## Brute Force"
   ]
  },
  {
   "cell_type": "code",
   "execution_count": 1,
   "metadata": {},
   "outputs": [
    {
     "name": "stdout",
     "output_type": "stream",
     "text": [
      "Number of ways to tile 3×24 with 2×1 bricks = 5757961\n"
     ]
    }
   ],
   "source": [
    "# ChatGPT Generated\n",
    "using BenchmarkTools\n",
    "\n",
    "struct Wall\n",
    "    grid::Matrix{Int}  # size 3×n\n",
    "end\n",
    "\n",
    "function all_walls_3xn(n::Int)\n",
    "    # Create empty grid: 3 rows × n columns, 0 means \"not filled yet\"\n",
    "    grid = fill(0, 3, n)\n",
    "    solutions = Wall[]\n",
    "    backtrack!(grid, 1, 1, 1, solutions)\n",
    "    return solutions\n",
    "end\n",
    "\n",
    "function backtrack!(grid, r, c, next_id, solutions)\n",
    "    n = size(grid, 2)\n",
    "\n",
    "    # If c goes beyond n, move to next row:\n",
    "    if c > n\n",
    "        r += 1\n",
    "        c = 1\n",
    "    end\n",
    "\n",
    "    # If r goes beyond 3, we've filled all rows => store a copy\n",
    "    if r > 3\n",
    "        push!(solutions, Wall(copy(grid)))\n",
    "        return\n",
    "    end\n",
    "\n",
    "    # If current cell is already filled, just move on\n",
    "    if grid[r, c] != 0\n",
    "        backtrack!(grid, r, c+1, next_id, solutions)\n",
    "        return\n",
    "    end\n",
    "\n",
    "    # 1) Try placing a vertical domino if there's space (r+1 within bounds)\n",
    "    if r < 3 && grid[r+1, c] == 0\n",
    "        grid[r,   c] = next_id\n",
    "        grid[r+1, c] = next_id\n",
    "        backtrack!(grid, r, c+1, next_id+1, solutions)\n",
    "        # backtrack\n",
    "        grid[r,   c] = 0\n",
    "        grid[r+1, c] = 0\n",
    "    end\n",
    "\n",
    "    # 2) Try placing a horizontal domino if there's space (c+1 within bounds)\n",
    "    if c < n && grid[r, c+1] == 0\n",
    "        grid[r, c]   = next_id\n",
    "        grid[r, c+1] = next_id\n",
    "        backtrack!(grid, r, c+1, next_id+1, solutions)\n",
    "        # backtrack\n",
    "        grid[r, c]   = 0\n",
    "        grid[r, c+1] = 0\n",
    "    end\n",
    "end\n",
    "\n",
    "n = 24\n",
    "walls = all_walls_3xn(n)\n",
    "println(\"Number of ways to tile 3×$n with 2×1 bricks = \", length(walls))"
   ]
  },
  {
   "cell_type": "markdown",
   "metadata": {},
   "source": [
    "## My solution"
   ]
  },
  {
   "cell_type": "code",
   "execution_count": 2,
   "metadata": {},
   "outputs": [
    {
     "name": "stdout",
     "output_type": "stream",
     "text": [
      "  45.163 ns (0 allocations: 0 bytes)\n",
      "# Ways of tiling divided by # components for 24: [2, 48, 566, 4304, 23370, 94960, 294462, 697248, 1237842, 1574640, 1299078, 531441]\n",
      "# Total Ways of tiling for 24: 5757961\n"
     ]
    }
   ],
   "source": [
    "using BenchmarkTools\n",
    "\n",
    "tile_cache = Dict{Int, Vector{Int}}()\n",
    "\n",
    "function tile(n)\n",
    "    if haskey(tile_cache, n)\n",
    "        return tile_cache[n]\n",
    "    end\n",
    "\n",
    "    if n % 2 != 0\n",
    "        tile_cache[n] = Int[0]\n",
    "        return tile_cache[n]\n",
    "    end\n",
    "\n",
    "    if n == 2\n",
    "        tile_cache[n] = Int[3]\n",
    "        return tile_cache[n]\n",
    "    end\n",
    "\n",
    "    result = zeros(Int, n ÷ 2)\n",
    "    result[1] = 2\n",
    "\n",
    "    for i in 2:2:(n - 1)\n",
    "        left = tile(i)\n",
    "        right = tile(n - i)\n",
    "        for j in eachindex(left)\n",
    "            result[j + 1] += left[j] * right[1]\n",
    "        end\n",
    "    end\n",
    "\n",
    "    tile_cache[n] = result\n",
    "    return result\n",
    "end\n",
    "\n",
    "n = 24\n",
    "val = @btime tile(n)\n",
    "println(\"# Ways of tiling divided by # components for $n: \", val)\n",
    "println(\"# Total Ways of tiling for $n: \", sum(val))"
   ]
  },
  {
   "cell_type": "markdown",
   "metadata": {},
   "source": [
    "## Checking"
   ]
  },
  {
   "cell_type": "code",
   "execution_count": 6,
   "metadata": {},
   "outputs": [],
   "source": [
    "for n in 2:2:24\n",
    "    if sum(tile(n)) != length(all_walls_3xn(n))\n",
    "        println(\"$n failed\")\n",
    "    end\n",
    "end"
   ]
  },
  {
   "cell_type": "markdown",
   "metadata": {},
   "source": [
    "# Problem 2"
   ]
  },
  {
   "cell_type": "markdown",
   "metadata": {},
   "source": [
    "# Problem 3\n",
    "Given a sequential throw of $N$ dice $i = 1,\\ldots,N$ with biases \n",
    "$p_1,\\ldots,p_N : \\{1,\\ldots,6\\} \\to [0,1]$ \n",
    "(with $\\sum_{x=1}^6 p_i(x) = 1$). \n",
    "Devise a polynomial time procedure to compute:\n",
    "- What is the probability of having exactly $R$ times a repetition of the previous die?\n",
    "- A \"lucky run\" is a subsequence of consecutive 6s in the throw. What is the most probable single throw with exactly $L$ lucky runs and a total of $S$ sixes?"
   ]
  },
  {
   "cell_type": "code",
   "execution_count": null,
   "metadata": {},
   "outputs": [],
   "source": [
    "function lucky(n, r, p)\n",
    "    if r > n\n",
    "        return 0\n",
    "    end\n",
    "\n",
    "   for i in 1:(n-r) \n",
    "   end\n",
    "    \n",
    "end"
   ]
  }
 ],
 "metadata": {
  "kernelspec": {
   "display_name": "Julia 1.11.2",
   "language": "julia",
   "name": "julia-1.11"
  },
  "language_info": {
   "file_extension": ".jl",
   "mimetype": "application/julia",
   "name": "julia",
   "version": "1.11.2"
  }
 },
 "nbformat": 4,
 "nbformat_minor": 2
}
