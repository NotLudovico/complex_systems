{
 "cells": [
  {
   "cell_type": "markdown",
   "metadata": {},
   "source": [
    "# Problem 1:\n",
    "How many ways can one tile a $3 \\times n$ wall using only $1\\times 2$ and $2\\times 1$ blocks?\n",
    "$$"
   ]
  },
  {
   "cell_type": "markdown",
   "metadata": {},
   "source": [
    "## Brute Force"
   ]
  },
  {
   "cell_type": "code",
   "execution_count": 4,
   "metadata": {},
   "outputs": [
    {
     "name": "stdout",
     "output_type": "stream",
     "text": [
      "Number of ways to tile 3×24 with 2×1 bricks = 5757961\n"
     ]
    }
   ],
   "source": [
    "# ChatGPT Generated\n",
    "using BenchmarkTools\n",
    "\n",
    "struct Wall\n",
    "    grid::Matrix{Int}  # size 3×n\n",
    "end\n",
    "\n",
    "function all_walls_3xn(n::Int)\n",
    "    # Create empty grid: 3 rows × n columns, 0 means \"not filled yet\"\n",
    "    grid = fill(0, 3, n)\n",
    "    solutions = Wall[]\n",
    "    backtrack!(grid, 1, 1, 1, solutions)\n",
    "    return solutions\n",
    "end\n",
    "\n",
    "function backtrack!(grid, r, c, next_id, solutions)\n",
    "    n = size(grid, 2)\n",
    "\n",
    "    # If c goes beyond n, move to next row:\n",
    "    if c > n\n",
    "        r += 1\n",
    "        c = 1\n",
    "    end\n",
    "\n",
    "    # If r goes beyond 3, we've filled all rows => store a copy\n",
    "    if r > 3\n",
    "        push!(solutions, Wall(copy(grid)))\n",
    "        return\n",
    "    end\n",
    "\n",
    "    # If current cell is already filled, just move on\n",
    "    if grid[r, c] != 0\n",
    "        backtrack!(grid, r, c+1, next_id, solutions)\n",
    "        return\n",
    "    end\n",
    "\n",
    "    # 1) Try placing a vertical domino if there's space (r+1 within bounds)\n",
    "    if r < 3 && grid[r+1, c] == 0\n",
    "        grid[r,   c] = next_id\n",
    "        grid[r+1, c] = next_id\n",
    "        backtrack!(grid, r, c+1, next_id+1, solutions)\n",
    "        # backtrack\n",
    "        grid[r,   c] = 0\n",
    "        grid[r+1, c] = 0\n",
    "    end\n",
    "\n",
    "    # 2) Try placing a horizontal domino if there's space (c+1 within bounds)\n",
    "    if c < n && grid[r, c+1] == 0\n",
    "        grid[r, c]   = next_id\n",
    "        grid[r, c+1] = next_id\n",
    "        backtrack!(grid, r, c+1, next_id+1, solutions)\n",
    "        # backtrack\n",
    "        grid[r, c]   = 0\n",
    "        grid[r, c+1] = 0\n",
    "    end\n",
    "end\n",
    "\n",
    "n = 24\n",
    "walls = all_walls_3xn(n)\n",
    "println(\"Number of ways to tile 3×$n with 2×1 bricks = \", length(walls))"
   ]
  },
  {
   "cell_type": "markdown",
   "metadata": {},
   "source": [
    "## My solution $O(n^3)$"
   ]
  },
  {
   "cell_type": "code",
   "execution_count": 9,
   "metadata": {},
   "outputs": [
    {
     "name": "stdout",
     "output_type": "stream",
     "text": [
      "  32.403 ns (0 allocations: 0 bytes)\n",
      "# Ways of tiling divided by # components for 24: [2, 48, 566, 4304, 23370, 94960, 294462, 697248, 1237842, 1574640, 1299078, 531441]\n",
      "# Total Ways of tiling for 24: 5757961\n"
     ]
    }
   ],
   "source": [
    "# Global cache for computed tiling configurations\n",
    "tile_cache = Dict{Int, Vector{Int}}()\n",
    "\n",
    "function tile(n::Int)\n",
    "    if haskey(tile_cache, n)\n",
    "        return tile_cache[n]\n",
    "    end\n",
    "\n",
    "    result = if n % 2 != 0\n",
    "        Int[0]\n",
    "    elseif n <= 2\n",
    "        Int[3]\n",
    "    else\n",
    "        ways = zeros(Int, n ÷ 2)\n",
    "        ways[1] = 2\n",
    "        for i in 2:2:(n - 1)\n",
    "            left, right = tile(i), tile(n - i)\n",
    "            for (j, left_val) in enumerate(left)\n",
    "                ways[j + 1] += left_val * right[1]\n",
    "            end\n",
    "        end\n",
    "        ways\n",
    "    end\n",
    "\n",
    "    tile_cache[n] = result\n",
    "    return result\n",
    "end\n",
    "\n",
    "# Example usage:\n",
    "n = 24\n",
    "val = @btime tile(n)\n",
    "println(\"# Ways of tiling divided by # components for $n: \", val)\n",
    "println(\"# Total Ways of tiling for $n: \", sum(val))\n"
   ]
  },
  {
   "cell_type": "markdown",
   "metadata": {},
   "source": [
    "# Other solution $O(n^3)$"
   ]
  },
  {
   "cell_type": "code",
   "execution_count": 1,
   "metadata": {},
   "outputs": [
    {
     "data": {
      "text/plain": [
       "(5757961, 9.708118550994007)"
      ]
     },
     "execution_count": 1,
     "metadata": {},
     "output_type": "execute_result"
    }
   ],
   "source": [
    "using OffsetArrays\n",
    "\n",
    "function ego(n)\n",
    "    # init\n",
    "    w = OffsetArray(zeros(Int, n, n), 1:n, 0:n-1)\n",
    "\n",
    "    # base case\n",
    "    w[2:2:n, 0] .= 2\n",
    "    w[2,0] = 3\n",
    "\n",
    "    # other cases\n",
    "    for i in 2:n, j in 1:i-1\n",
    "        w[i, j] = sum(w[k, j-1] * w[i-k, 0] for k in j:i-1)\n",
    "    end\n",
    "\n",
    "    # total number of configurations\n",
    "    tot = sum( w[n,j] for j in 0:n-1 )\n",
    "\n",
    "    # robustness index\n",
    "    k = sum(i * w[n,i] for i in 0:n-1) / tot + 1\n",
    "\n",
    "    return tot, k\n",
    "\n",
    "end\n",
    "\n",
    "ego(24)\n"
   ]
  },
  {
   "cell_type": "markdown",
   "metadata": {},
   "source": [
    "# $O(n^2)$ Solution"
   ]
  },
  {
   "cell_type": "code",
   "execution_count": null,
   "metadata": {},
   "outputs": [
    {
     "name": "stdout",
     "output_type": "stream",
     "text": [
      "# Ways of tiling divided by # components for 6: 2\n",
      "# Total Ways of tiling for 6: 2\n",
      "Second component (total tiling factor): 126\n"
     ]
    }
   ],
   "source": []
  },
  {
   "cell_type": "markdown",
   "metadata": {},
   "source": [
    "## Checking"
   ]
  },
  {
   "cell_type": "code",
   "execution_count": 7,
   "metadata": {},
   "outputs": [],
   "source": [
    "for n in 2:2:24\n",
    "    if sum(tile(n)) != length(all_walls_3xn(n))\n",
    "        println(\"$n failed\")\n",
    "    end\n",
    "end"
   ]
  },
  {
   "cell_type": "markdown",
   "metadata": {},
   "source": [
    "# Problem 2"
   ]
  },
  {
   "cell_type": "markdown",
   "metadata": {},
   "source": [
    "# Problem 3\n",
    "Given a sequential throw of $N$ dice $i = 1,\\ldots,N$ with biases \n",
    "$p_1,\\ldots,p_N : \\{1,\\ldots,6\\} \\to [0,1]$ \n",
    "(with $\\sum_{x=1}^6 p_i(x) = 1$). \n",
    "Devise a polynomial time procedure to compute:\n",
    "- What is the probability of having exactly $R$ times a repetition of the previous die?\n",
    "- A \"lucky run\" is a subsequence of consecutive 6s in the throw. What is the most probable single throw with exactly $L$ lucky runs and a total of $S$ sixes?"
   ]
  },
  {
   "cell_type": "code",
   "execution_count": 8,
   "metadata": {},
   "outputs": [
    {
     "data": {
      "text/plain": [
       "lucky (generic function with 1 method)"
      ]
     },
     "execution_count": 8,
     "metadata": {},
     "output_type": "execute_result"
    }
   ],
   "source": [
    "function lucky(n, r, p)\n",
    "    if r > n\n",
    "        return 0\n",
    "    end\n",
    "\n",
    "   for i in 1:(n-r) \n",
    "   end\n",
    "    \n",
    "end"
   ]
  }
 ],
 "metadata": {
  "kernelspec": {
   "display_name": "Julia 1.11.2",
   "language": "julia",
   "name": "julia-1.11"
  },
  "language_info": {
   "file_extension": ".jl",
   "mimetype": "application/julia",
   "name": "julia",
   "version": "1.11.2"
  }
 },
 "nbformat": 4,
 "nbformat_minor": 2
}
