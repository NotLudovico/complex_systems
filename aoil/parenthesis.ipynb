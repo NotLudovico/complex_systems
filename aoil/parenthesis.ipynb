{
 "cells": [
  {
   "cell_type": "code",
   "execution_count": 27,
   "metadata": {},
   "outputs": [],
   "source": [
    "dims = rand(1:100, 22);"
   ]
  },
  {
   "cell_type": "code",
   "execution_count": 28,
   "metadata": {},
   "outputs": [
    {
     "name": "stdout",
     "output_type": "stream",
     "text": [
      "  7.215222 seconds\n",
      "Minimum multiplication cost: 328302\n"
     ]
    }
   ],
   "source": [
    "using BenchmarkTools\n",
    "\n",
    "function matrix_chain_order(p::Vector{Int}, i::Int, j::Int)\n",
    "    if i == j\n",
    "        return 0\n",
    "    end\n",
    "    min_cost = typemax(Int)\n",
    "    for k in i:j-1\n",
    "        cost = matrix_chain_order(p, i, k) +\n",
    "               matrix_chain_order(p, k+1, j) +\n",
    "               p[i] * p[k+1] * p[j+1]\n",
    "        min_cost = min(min_cost, cost)\n",
    "    end\n",
    "    return min_cost\n",
    "end\n",
    "\n",
    "# Example usage:\n",
    "# For matrices A, B, C, D with dimensions:\n",
    "# A: 30x14, B: 14x7, C: 7x2, D: 2x5,\n",
    "# define p such that A has dimensions p[1] x p[2], B has p[2] x p[3], etc.\n",
    "n = length(dims) - 1      # number of matrices\n",
    "println(\"Minimum multiplication cost: \", @time matrix_chain_order(dims, 1, n))\n"
   ]
  },
  {
   "cell_type": "code",
   "execution_count": 29,
   "metadata": {},
   "outputs": [
    {
     "name": "stdout",
     "output_type": "stream",
     "text": [
      "  676.000 μs (10850 allocations: 280.75 KiB)\n",
      "Minimum multiplication cost with memoization: 328302\n"
     ]
    }
   ],
   "source": [
    "function best_par_memo(v)\n",
    "    n = length(v)\n",
    "    memo = Dict{Tuple{Int,Int}, Tuple{Int,Int,Int}}()\n",
    "\n",
    "    function rec(i, j)\n",
    "        if haskey(memo, (i, j))\n",
    "            return memo[(i, j)]\n",
    "        end\n",
    "\n",
    "        if j - i == 1\n",
    "            result = (0, v[i], v[j])\n",
    "        elseif j - i == 2\n",
    "            result = (v[i] * v[i+1] * v[j], v[i], v[j])\n",
    "        else\n",
    "            best_cost = Inf\n",
    "            best_result = nothing\n",
    "            for k in (i+1):(j-1)\n",
    "                left = rec(i, k)\n",
    "                right = rec(k, j)\n",
    "                cost = left[1] + right[1] + v[i] * v[k] * v[j]\n",
    "                if cost < best_cost\n",
    "                    best_cost = cost\n",
    "                    best_result = (best_cost, v[i], v[j])\n",
    "                end\n",
    "            end\n",
    "            result = best_result\n",
    "        end\n",
    "\n",
    "        memo[(i, j)] = result\n",
    "        return result\n",
    "    end\n",
    "\n",
    "    return rec(1, n)\n",
    "end\n",
    "println(\"Minimum multiplication cost with memoization: \", @btime best_par_memo(dims)[1])\n"
   ]
  }
 ],
 "metadata": {
  "kernelspec": {
   "display_name": "Julia 1.11.2",
   "language": "julia",
   "name": "julia-1.11"
  },
  "language_info": {
   "file_extension": ".jl",
   "mimetype": "application/julia",
   "name": "julia",
   "version": "1.11.2"
  }
 },
 "nbformat": 4,
 "nbformat_minor": 2
}
