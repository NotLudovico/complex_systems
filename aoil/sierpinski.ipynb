{
 "cells": [
  {
   "cell_type": "markdown",
   "metadata": {},
   "source": [
    "Design a recursion to produce plot in Figure 6. Hint: using a recursive function, produce\n",
    "vectors px, py with respectively x and y coordinates of endpoints of\n",
    "your polygons, separating polygons by NaN values"
   ]
  },
  {
   "cell_type": "markdown",
   "metadata": {},
   "source": [
    "# Recursive Way"
   ]
  },
  {
   "cell_type": "code",
   "execution_count": null,
   "metadata": {},
   "outputs": [
    {
     "data": {
      "text/plain": [
       "([0.0, 1.0, 0.0, NaN, 0.0, 1.0, 0.0, NaN, 4.0, 5.0  …  4088.0, NaN, 4088.0, 4089.0, 4088.0, NaN, 4092.0, 4093.0, 4092.0, NaN], [0.0, 0.0, 1.0, NaN, 4.0, 4.0, 5.0, NaN, 0.0, 0.0  …  1.0, NaN, 4.0, 4.0, 5.0, NaN, 0.0, 0.0, 1.0, NaN])"
      ]
     },
     "metadata": {},
     "output_type": "display_data"
    }
   ],
   "source": [
    "using BenchmarkTools\n",
    "\n",
    "function sierpinski(x,y,size)\n",
    "    if size == 1\n",
    "        return ([x,x+1,x,NaN], [y,y,y+1,NaN])\n",
    "    end\n",
    "\n",
    "    top_x, top_y = sierpinski(x,y+(2^size), size-1)\n",
    "    right_x, right_y = sierpinski(x+(2^size),y, size-1)\n",
    "    base_x, base_y = sierpinski(x,y, size-1)\n",
    "\n",
    "    return ([base_x;top_x;right_x], \n",
    "            [base_y;top_y; right_y])\n",
    "end\n",
    "\n",
    "\n",
    "px, py = @btime sierpinski(0,0,11)\n",
    "using Plots;\n",
    "gr();\n",
    "plot(px,py,seriestype=:shape,size=(500,500),\n",
    "linewidth=1,grid=false,axis=false,label=false)"
   ]
  },
  {
   "cell_type": "markdown",
   "metadata": {},
   "source": [
    "# Shift Based"
   ]
  },
  {
   "cell_type": "code",
   "execution_count": null,
   "metadata": {},
   "outputs": [
    {
     "data": {
      "text/plain": [
       "([0.0, 1.0, 0.0, NaN, 0.0, 1.0, 0.0, NaN, 4.0, 5.0  …  4088.0, NaN, 4088.0, 4089.0, 4088.0, NaN, 4092.0, 4093.0, 4092.0, NaN], [0.0, 0.0, 1.0, NaN, 4.0, 4.0, 5.0, NaN, 0.0, 0.0  …  1.0, NaN, 4.0, 4.0, 5.0, NaN, 0.0, 0.0, 1.0, NaN])"
      ]
     },
     "metadata": {},
     "output_type": "display_data"
    }
   ],
   "source": [
    "function sierpinski_shift(x,y,size)\n",
    "    if size == 1\n",
    "        return ([0,1,0,NaN] .+ x, [0,0,1,NaN] .+ y)\n",
    "    end\n",
    "\n",
    "    base_x, base_y = sierpinski_shift(x,y, size-1)\n",
    "    top_y = base_y .+ 2^size\n",
    "    right_x = base_x .+ 2^size\n",
    "\n",
    "    return ([base_x;base_x;right_x], \n",
    "            [base_y;top_y;base_y])\n",
    "end\n",
    "\n",
    "\n",
    "px, py = @btime sierpinski_shift(0,0,11)\n",
    "using Plots;\n",
    "gr();\n",
    "plot(px,py,seriestype=:shape,size=(500,500),\n",
    "linewidth=1,grid=false,axis=false,label=false)"
   ]
  },
  {
   "cell_type": "markdown",
   "metadata": {},
   "source": [
    "## Comments\n",
    "25x improvements wrt to the previous implementation"
   ]
  },
  {
   "cell_type": "markdown",
   "metadata": {},
   "source": [
    "# Shift + Memo"
   ]
  },
  {
   "cell_type": "code",
   "execution_count": null,
   "metadata": {},
   "outputs": [
    {
     "data": {
      "text/plain": [
       "([0.0, 1.0, 0.0, NaN, 0.0, 1.0, 0.0, NaN, 1.0, 2.0  …  1022.0, NaN, 1022.0, 1023.0, 1022.0, NaN, 1023.0, 1024.0, 1023.0, NaN], [0.0, 0.0, 1.0, NaN, 1.0, 1.0, 2.0, NaN, 0.0, 0.0  …  1.0, NaN, 1.0, 1.0, 2.0, NaN, 0.0, 0.0, 1.0, NaN])"
      ]
     },
     "metadata": {},
     "output_type": "display_data"
    }
   ],
   "source": [
    "using BenchmarkTools\n",
    "\n",
    "cache = [\n",
    "    ([0,1,0,NaN], [0,0,1,NaN])\n",
    "]\n",
    "function sierpinski_sm(x,y,size)\n",
    "    if x == 0 && y == 0\n",
    "        print(\"calling with size $(size)\")\n",
    "    end\n",
    "    base_x = []\n",
    "    base_y = []\n",
    "    if size-1 <= length(cache)\n",
    "        px, py = cache[size-1]\n",
    "        base_x = px .+ x\n",
    "        base_y = py .+ y\n",
    "    else\n",
    "        base_x, base_y = sierpinski_sm(0,0, size-1)\n",
    "        push!(cache, (base_x, base_y))\n",
    "        base_x = base_x .+ x\n",
    "        base_y = base_y .+ y\n",
    "    end\n",
    "\n",
    "    return ([base_x;base_x;base_x .+ 2^(size-2)], \n",
    "            [base_y;base_y .+ 2^(size-2);base_y])\n",
    "end\n",
    "\n",
    "px, py = @btime sierpinski_sm(0,0,11)"
   ]
  }
 ],
 "metadata": {
  "kernelspec": {
   "display_name": "Julia 1.11.2",
   "language": "julia",
   "name": "julia-1.11"
  },
  "language_info": {
   "file_extension": ".jl",
   "mimetype": "application/julia",
   "name": "julia",
   "version": "1.11.2"
  }
 },
 "nbformat": 4,
 "nbformat_minor": 2
}
