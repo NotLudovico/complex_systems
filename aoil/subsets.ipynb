{
 "cells": [
  {
   "cell_type": "markdown",
   "metadata": {},
   "source": [
    "Design a recursive function to print the $\\binom{n}{k}$ subsets of $\\{1, \\dots, n\\}$ of size $k$"
   ]
  },
  {
   "cell_type": "code",
   "execution_count": 163,
   "metadata": {},
   "outputs": [
    {
     "name": "stdout",
     "output_type": "stream",
     "text": [
      "  1.117 μs (93 allocations: 4.02 KiB)\n"
     ]
    },
    {
     "data": {
      "text/plain": [
       "10-element Vector{Any}:\n",
       " [1, 2, 3]\n",
       " [1, 2, 4]\n",
       " [1, 2, 5]\n",
       " [1, 3, 4]\n",
       " [1, 3, 5]\n",
       " [1, 4, 5]\n",
       " [2, 3, 4]\n",
       " [2, 3, 5]\n",
       " [2, 4, 5]\n",
       " [3, 4, 5]"
      ]
     },
     "metadata": {},
     "output_type": "display_data"
    }
   ],
   "source": [
    "using BenchmarkTools\n",
    "\n",
    "function subsets(vec, k)\n",
    "    list = []\n",
    "    if length(vec) == k \n",
    "        return [vec]\n",
    "    elseif k == 1\n",
    "        for el in vec\n",
    "            push!(list, [el])\n",
    "        end\n",
    "        return list\n",
    "    else \n",
    "        for i in 1:length(vec)-1\n",
    "            subs = subsets(vec[i+1:end], k-1)\n",
    "            for sub in subs\n",
    "                push!(list, [vec[i];sub])\n",
    "            end\n",
    "        end\n",
    "        return list\n",
    "    end\n",
    "end\n",
    "\n",
    "vec = [1,2,3,4,5]\n",
    "@btime subsets(vec, 3)\n",
    "# println(subsets(vec,2))"
   ]
  },
  {
   "cell_type": "markdown",
   "metadata": {},
   "source": [
    "# More Elegant"
   ]
  },
  {
   "cell_type": "code",
   "execution_count": 165,
   "metadata": {},
   "outputs": [
    {
     "name": "stdout",
     "output_type": "stream",
     "text": [
      "  10.583 μs (306 allocations: 8.59 KiB)\n"
     ]
    },
    {
     "data": {
      "text/plain": [
       "10-element Vector{Vector{Int64}}:\n",
       " [1, 4, 5]\n",
       " [2, 4, 5]\n",
       " [3, 4, 5]\n",
       " [1, 3, 5]\n",
       " [2, 3, 5]\n",
       " [1, 2, 5]\n",
       " [1, 3, 4]\n",
       " [2, 3, 4]\n",
       " [1, 2, 4]\n",
       " [1, 2, 3]"
      ]
     },
     "metadata": {},
     "output_type": "display_data"
    }
   ],
   "source": [
    "function subsets2(vec, k)\n",
    "    n = length(vec)\n",
    "    if k == n \n",
    "        return [vec]\n",
    "    elseif k == 1\n",
    "        return [[el] for el in vec]\n",
    "    else\n",
    "        return  [[[p; vec[n]] for p in subsets2(vec[1:n-1], k-1)]; subsets2(vec[1:n-1], k)]\n",
    "    end\n",
    "end\n",
    "\n",
    "vec = [1,2,3,4,5]\n",
    "@btime subsets2(vec, 3)\n"
   ]
  }
 ],
 "metadata": {
  "kernelspec": {
   "display_name": "Julia 1.11.2",
   "language": "julia",
   "name": "julia-1.11"
  },
  "language_info": {
   "file_extension": ".jl",
   "mimetype": "application/julia",
   "name": "julia",
   "version": "1.11.2"
  }
 },
 "nbformat": 4,
 "nbformat_minor": 2
}
